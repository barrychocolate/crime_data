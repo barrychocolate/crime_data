{
 "cells": [
  {
   "cell_type": "markdown",
   "metadata": {},
   "source": [
    "# Crime Data Analysis\n",
    "\n",
    "This notebook performs analysis on crime data across different regions. It consolidates CSV files from multiple folders, computes summary statistics, and provides breakdowns by crime type and jurisdiction. \n",
    "\n",
    "**Objectives:**\n",
    "- Load and combine multiple CSV files into a single DataFrame.\n",
    "- Identify the earliest and latest crime data.\n",
    "- Calculate the total number of crimes.\n",
    "- Provide breakdowns by crime type and jurisdiction.\n",
    "\n",
    "## Import Libraries\n",
    "\n",
    "We use Python libraries such as `pandas` for data manipulation, `os` for file system operations, and `tqdm` for a progress bar to improve user experience during file loading.\n",
    "\n",
    "\n"
   ]
  },
  {
   "cell_type": "code",
   "execution_count": 14,
   "metadata": {},
   "outputs": [],
   "source": [
    "import os\n",
    "import pandas as pd\n",
    "from tqdm import tqdm # for the progress bar\n",
    "import pickle # to store the datafame as a binary object"
   ]
  },
  {
   "cell_type": "markdown",
   "metadata": {},
   "source": [
    "## Set Project Paths\n",
    "\n",
    "Here, we set the paths to the data directories. The `start_folder` is the path where the CSV files are stored. The code automatically sets this path relative to the project directory for consistency.\n"
   ]
  },
  {
   "cell_type": "code",
   "execution_count": 15,
   "metadata": {},
   "outputs": [],
   "source": [
    "# start_folder = '/mnt/raw_data'  # Replace with your folder path\n",
    "# output_folder = '/mnt/processed_data'  # Replace with your folder path\n",
    "\n",
    "# my data is in a raw_data directory within my project\n",
    "start_folder = os.path.join(os.path.dirname(os.path.abspath(\n",
    "    \"__file__\")) if '__file__' in globals() else os.getcwd(), 'raw_data')\n",
    "\n",
    "# my data will be output to the processed_data directory within my project\n",
    "output_folder = os.path.join(os.path.dirname(os.path.abspath(\n",
    "    \"__file__\")) if '__file__' in globals() else os.getcwd(), 'processed_data')"
   ]
  },
  {
   "cell_type": "markdown",
   "metadata": {},
   "source": [
    "## Define Functions to Load Data\n",
    "\n",
    "This function loads all CSV files from the specified `raw_data` directory and its subdirectories into a single DataFrame. The function also uses a progress bar to track the loading process.\n",
    "\n",
    "- **Function:** `load_csv_files_to_dataframe`\n",
    "- **Input:** `start_folder` (directory containing CSV files)\n",
    "- **Output:** Combined DataFrame with all crime data\n"
   ]
  },
  {
   "cell_type": "code",
   "execution_count": 16,
   "metadata": {},
   "outputs": [],
   "source": [
    "def load_csv_files_to_dataframe(start_folder):\n",
    "    combined_df = pd.DataFrame()\n",
    "\n",
    "    # First, count the total number of CSV files\n",
    "    csv_files = []\n",
    "    for root, _, files in os.walk(start_folder):\n",
    "        for file in files:\n",
    "            if file.endswith('.csv'):\n",
    "                csv_files.append(os.path.join(root, file))\n",
    "\n",
    "    # Display progress bar as files are loaded\n",
    "    print(f\"Found {len(csv_files)} CSV files. Loading...\")\n",
    "    for file_path in tqdm(csv_files, desc=\"Loading files\"):\n",
    "        try:\n",
    "            df = pd.read_csv(file_path)\n",
    "            combined_df = pd.concat([combined_df, df], ignore_index=True)\n",
    "        except Exception as e:\n",
    "            print(f\"Error reading {file_path}: {e}\")\n",
    "\n",
    "    return combined_df"
   ]
  },
  {
   "cell_type": "markdown",
   "metadata": {},
   "source": [
    "## Load and Combine Data\n",
    "\n",
    "This code block uses the `load_csv_files_to_dataframe` function to load all CSV files into a single DataFrame called `combined_df`. A progress bar shows the loading status.\n"
   ]
  },
  {
   "cell_type": "code",
   "execution_count": 17,
   "metadata": {},
   "outputs": [
    {
     "name": "stdout",
     "output_type": "stream",
     "text": [
      "Found 1570 CSV files. Loading...\n"
     ]
    },
    {
     "name": "stderr",
     "output_type": "stream",
     "text": [
      "Loading files: 100%|██████████| 1570/1570 [14:53<00:00,  1.76it/s]\n"
     ]
    }
   ],
   "source": [
    "# Usage\n",
    "combined_df = load_csv_files_to_dataframe(start_folder)"
   ]
  },
  {
   "cell_type": "markdown",
   "metadata": {},
   "source": [
    "## Data Preprocessing\n",
    "\n",
    "In this section, we ensure that the `Month` column is in a standard datetime format to enable date-based calculations. This preprocessing step is necessary to compute date-related statistics.\n"
   ]
  },
  {
   "cell_type": "code",
   "execution_count": 18,
   "metadata": {},
   "outputs": [
    {
     "data": {
      "text/html": [
       "<div>\n",
       "<style scoped>\n",
       "    .dataframe tbody tr th:only-of-type {\n",
       "        vertical-align: middle;\n",
       "    }\n",
       "\n",
       "    .dataframe tbody tr th {\n",
       "        vertical-align: top;\n",
       "    }\n",
       "\n",
       "    .dataframe thead th {\n",
       "        text-align: right;\n",
       "    }\n",
       "</style>\n",
       "<table border=\"1\" class=\"dataframe\">\n",
       "  <thead>\n",
       "    <tr style=\"text-align: right;\">\n",
       "      <th></th>\n",
       "      <th>Crime ID</th>\n",
       "      <th>Month</th>\n",
       "      <th>Reported by</th>\n",
       "      <th>Falls within</th>\n",
       "      <th>Longitude</th>\n",
       "      <th>Latitude</th>\n",
       "      <th>Location</th>\n",
       "      <th>LSOA code</th>\n",
       "      <th>LSOA name</th>\n",
       "      <th>Crime type</th>\n",
       "      <th>Last outcome category</th>\n",
       "      <th>Context</th>\n",
       "    </tr>\n",
       "  </thead>\n",
       "  <tbody>\n",
       "    <tr>\n",
       "      <th>0</th>\n",
       "      <td>NaN</td>\n",
       "      <td>2021-10-01</td>\n",
       "      <td>Avon and Somerset Constabulary</td>\n",
       "      <td>Avon and Somerset Constabulary</td>\n",
       "      <td>-2.494870</td>\n",
       "      <td>51.422276</td>\n",
       "      <td>On or near Conference/Exhibition Centre</td>\n",
       "      <td>E01014399</td>\n",
       "      <td>Bath and North East Somerset 001A</td>\n",
       "      <td>Anti-social behaviour</td>\n",
       "      <td>NaN</td>\n",
       "      <td>NaN</td>\n",
       "    </tr>\n",
       "    <tr>\n",
       "      <th>1</th>\n",
       "      <td>NaN</td>\n",
       "      <td>2021-10-01</td>\n",
       "      <td>Avon and Somerset Constabulary</td>\n",
       "      <td>Avon and Somerset Constabulary</td>\n",
       "      <td>-2.511761</td>\n",
       "      <td>51.409966</td>\n",
       "      <td>On or near Caernarvon Close</td>\n",
       "      <td>E01014399</td>\n",
       "      <td>Bath and North East Somerset 001A</td>\n",
       "      <td>Anti-social behaviour</td>\n",
       "      <td>NaN</td>\n",
       "      <td>NaN</td>\n",
       "    </tr>\n",
       "    <tr>\n",
       "      <th>2</th>\n",
       "      <td>2ef684ec509091d7b95b33fad587b0556e809a8d9bce9b...</td>\n",
       "      <td>2021-10-01</td>\n",
       "      <td>Avon and Somerset Constabulary</td>\n",
       "      <td>Avon and Somerset Constabulary</td>\n",
       "      <td>-2.495055</td>\n",
       "      <td>51.422132</td>\n",
       "      <td>On or near Cross Street</td>\n",
       "      <td>E01014399</td>\n",
       "      <td>Bath and North East Somerset 001A</td>\n",
       "      <td>Burglary</td>\n",
       "      <td>Status update unavailable</td>\n",
       "      <td>NaN</td>\n",
       "    </tr>\n",
       "    <tr>\n",
       "      <th>3</th>\n",
       "      <td>a5838c48aa3cd51c2458a9dc56d3395f84a040ff5f227c...</td>\n",
       "      <td>2021-10-01</td>\n",
       "      <td>Avon and Somerset Constabulary</td>\n",
       "      <td>Avon and Somerset Constabulary</td>\n",
       "      <td>-2.509126</td>\n",
       "      <td>51.416137</td>\n",
       "      <td>On or near St Francis Road</td>\n",
       "      <td>E01014399</td>\n",
       "      <td>Bath and North East Somerset 001A</td>\n",
       "      <td>Burglary</td>\n",
       "      <td>Status update unavailable</td>\n",
       "      <td>NaN</td>\n",
       "    </tr>\n",
       "    <tr>\n",
       "      <th>4</th>\n",
       "      <td>b6e9c1573eccc1eee7e6a3152a8477a0b44a66329c1344...</td>\n",
       "      <td>2021-10-01</td>\n",
       "      <td>Avon and Somerset Constabulary</td>\n",
       "      <td>Avon and Somerset Constabulary</td>\n",
       "      <td>-2.515072</td>\n",
       "      <td>51.419357</td>\n",
       "      <td>On or near Stockwood Hill</td>\n",
       "      <td>E01014399</td>\n",
       "      <td>Bath and North East Somerset 001A</td>\n",
       "      <td>Drugs</td>\n",
       "      <td>Unable to prosecute suspect</td>\n",
       "      <td>NaN</td>\n",
       "    </tr>\n",
       "  </tbody>\n",
       "</table>\n",
       "</div>"
      ],
      "text/plain": [
       "                                            Crime ID      Month  \\\n",
       "0                                                NaN 2021-10-01   \n",
       "1                                                NaN 2021-10-01   \n",
       "2  2ef684ec509091d7b95b33fad587b0556e809a8d9bce9b... 2021-10-01   \n",
       "3  a5838c48aa3cd51c2458a9dc56d3395f84a040ff5f227c... 2021-10-01   \n",
       "4  b6e9c1573eccc1eee7e6a3152a8477a0b44a66329c1344... 2021-10-01   \n",
       "\n",
       "                      Reported by                    Falls within  Longitude  \\\n",
       "0  Avon and Somerset Constabulary  Avon and Somerset Constabulary  -2.494870   \n",
       "1  Avon and Somerset Constabulary  Avon and Somerset Constabulary  -2.511761   \n",
       "2  Avon and Somerset Constabulary  Avon and Somerset Constabulary  -2.495055   \n",
       "3  Avon and Somerset Constabulary  Avon and Somerset Constabulary  -2.509126   \n",
       "4  Avon and Somerset Constabulary  Avon and Somerset Constabulary  -2.515072   \n",
       "\n",
       "    Latitude                                 Location  LSOA code  \\\n",
       "0  51.422276  On or near Conference/Exhibition Centre  E01014399   \n",
       "1  51.409966              On or near Caernarvon Close  E01014399   \n",
       "2  51.422132                  On or near Cross Street  E01014399   \n",
       "3  51.416137               On or near St Francis Road  E01014399   \n",
       "4  51.419357                On or near Stockwood Hill  E01014399   \n",
       "\n",
       "                           LSOA name             Crime type  \\\n",
       "0  Bath and North East Somerset 001A  Anti-social behaviour   \n",
       "1  Bath and North East Somerset 001A  Anti-social behaviour   \n",
       "2  Bath and North East Somerset 001A               Burglary   \n",
       "3  Bath and North East Somerset 001A               Burglary   \n",
       "4  Bath and North East Somerset 001A                  Drugs   \n",
       "\n",
       "         Last outcome category  Context  \n",
       "0                          NaN      NaN  \n",
       "1                          NaN      NaN  \n",
       "2    Status update unavailable      NaN  \n",
       "3    Status update unavailable      NaN  \n",
       "4  Unable to prosecute suspect      NaN  "
      ]
     },
     "execution_count": 18,
     "metadata": {},
     "output_type": "execute_result"
    }
   ],
   "source": [
    "# Ensure 'Month' column is in datetime format\n",
    "combined_df['Month'] = pd.to_datetime(combined_df['Month'], format='%Y-%m')\n",
    "combined_df.head()"
   ]
  },
  {
   "cell_type": "markdown",
   "metadata": {},
   "source": [
    "## Save Combined Data to File\n",
    "\n",
    "Finally, we save the combined DataFrame to a CSV file in the `output_data` directory, making it easy to access and share the processed data.\n"
   ]
  },
  {
   "cell_type": "code",
   "execution_count": 30,
   "metadata": {},
   "outputs": [
    {
     "name": "stdout",
     "output_type": "stream",
     "text": [
      "Data saved\n"
     ]
    }
   ],
   "source": [
    "# Define the output file path\n",
    "output_file = os.path.join(output_folder, 'combined_data.pkl')\n",
    "\n",
    "# Save the DataFrame to a pickle file\n",
    "combined_df.to_pickle(output_file)\n",
    "print(\"Data saved\")\n",
    "\n",
    "# Load the DataFrame from the pickle file\n",
    "# combined_df = pd.read_pickle(output_file)"
   ]
  },
  {
   "cell_type": "markdown",
   "metadata": {},
   "source": [
    "## Calculate Total Crime Count\n",
    "\n",
    "Here, we calculate the total number of crimes recorded in the dataset. This gives an overview of the data size.\n"
   ]
  },
  {
   "cell_type": "code",
   "execution_count": 23,
   "metadata": {},
   "outputs": [],
   "source": [
    "# Ensure 'Month' column is in datetime format\n",
    "combined_df['Month'] = pd.to_datetime(combined_df['Month'], format='%Y-%m')\n",
    "\n",
    "# Calculate the earliest and latest Month\n",
    "earliest_month = combined_df['Month'].min()\n",
    "latest_month = combined_df['Month'].max()\n",
    "\n",
    "# Calculate the total count of crimes\n",
    "total_crimes = len(combined_df)\n",
    "\n",
    "# Breakdown of crimes by Crime type\n",
    "crime_type_breakdown = combined_df['Crime type'].value_counts()\n",
    "\n",
    "# Breakdown of crimes by \"Falls within\"\n",
    "falls_within_breakdown = combined_df['Falls within'].value_counts()"
   ]
  },
  {
   "cell_type": "markdown",
   "metadata": {},
   "source": [
    "## Summary of Results\n",
    "\n",
    "- **Earliest Month:** Displayed as `yyyy-mm`.\n",
    "- **Latest Month:** Displayed as `yyyy-mm`.\n",
    "- **Total Crimes:** Displayed with thousands separators.\n",
    "- **Breakdowns:** Summary tables showing the number of crimes by type and jurisdiction.\n",
    "\n",
    "This section summarises the main findings from our dataset.\n"
   ]
  },
  {
   "cell_type": "code",
   "execution_count": 24,
   "metadata": {},
   "outputs": [
    {
     "name": "stdout",
     "output_type": "stream",
     "text": [
      "Earliest Month: 2021-10\n",
      "Latest Month: 2024-09\n",
      "Total Crimes: 18,261,334\n"
     ]
    }
   ],
   "source": [
    "# Display the results with commas in numerical values\n",
    "print(f\"Earliest Month: {earliest_month.strftime('%Y-%m')}\")\n",
    "print(f\"Latest Month: {latest_month.strftime('%Y-%m')}\")\n",
    "print(f\"Total Crimes: {total_crimes:,}\")"
   ]
  },
  {
   "cell_type": "markdown",
   "metadata": {},
   "source": [
    "## Breakdown of Crimes by Type\n",
    "\n",
    "This section provides a summary of crimes grouped by crime type. It shows the number of occurrences for each crime type, formatted with thousands separators for readability.\n"
   ]
  },
  {
   "cell_type": "code",
   "execution_count": 25,
   "metadata": {},
   "outputs": [
    {
     "name": "stdout",
     "output_type": "stream",
     "text": [
      "\n",
      "Breakdown of Crimes by Crime Type:\n",
      "Crime type\n",
      "Violence and sexual offences    6,338,324\n",
      "Anti-social behaviour           2,933,160\n",
      "Public order                    1,445,829\n",
      "Criminal damage and arson       1,440,935\n",
      "Other theft                     1,376,051\n",
      "Shoplifting                     1,138,045\n",
      "Vehicle crime                   1,096,588\n",
      "Burglary                          755,241\n",
      "Drugs                             498,951\n",
      "Other crime                       334,821\n",
      "Theft from the person             334,314\n",
      "Robbery                           214,538\n",
      "Bicycle theft                     199,207\n",
      "Possession of weapons             155,330\n",
      "Name: count, dtype: object\n"
     ]
    }
   ],
   "source": [
    "print(\"\\nBreakdown of Crimes by Crime Type:\")\n",
    "print(crime_type_breakdown.apply(lambda x: f\"{x:,}\"))\n"
   ]
  },
  {
   "cell_type": "markdown",
   "metadata": {},
   "source": [
    "## Breakdown of Crimes by Jurisdiction (\"Falls within\")\n",
    "\n",
    "We also calculate the number of crimes grouped by the jurisdiction they fall within, represented by the `\"Falls within\"` column. This breakdown helps us understand crime distribution across different regions.\n"
   ]
  },
  {
   "cell_type": "code",
   "execution_count": 26,
   "metadata": {},
   "outputs": [
    {
     "name": "stdout",
     "output_type": "stream",
     "text": [
      "\n",
      "Breakdown of Crimes by 'Falls within':\n",
      "Falls within\n",
      "Metropolitan Police Service           3,357,701\n",
      "West Midlands Police                  1,110,599\n",
      "West Yorkshire Police                   992,871\n",
      "Thames Valley Police                    618,286\n",
      "Kent Police                             586,313\n",
      "Lancashire Constabulary                 564,982\n",
      "Northumbria Police                      557,351\n",
      "Hampshire Constabulary                  551,983\n",
      "South Yorkshire Police                  546,229\n",
      "Essex Police                            526,488\n",
      "Avon and Somerset Constabulary          518,539\n",
      "Merseyside Police                       514,143\n",
      "Sussex Police                           463,046\n",
      "South Wales Police                      399,965\n",
      "Devon & Cornwall Police                 364,797\n",
      "Nottinghamshire Police                  364,396\n",
      "West Mercia Police                      338,262\n",
      "Derbyshire Constabulary                 334,054\n",
      "Leicestershire Police                   332,740\n",
      "Staffordshire Police                    315,206\n",
      "Hertfordshire Constabulary              307,496\n",
      "Humberside Police                       307,099\n",
      "Cleveland Police                        288,953\n",
      "Police Service of Northern Ireland      286,009\n",
      "Surrey Police                           263,487\n",
      "Cheshire Constabulary                   254,360\n",
      "Cambridgeshire Constabulary             251,225\n",
      "Durham Constabulary                     230,454\n",
      "Northamptonshire Police                 224,130\n",
      "Norfolk Constabulary                    221,772\n",
      "North Wales Police                      214,846\n",
      "Lincolnshire Police                     207,766\n",
      "North Yorkshire Police                  195,348\n",
      "Gwent Police                            194,674\n",
      "Gloucestershire Constabulary            193,852\n",
      "Dorset Police                           190,675\n",
      "Bedfordshire Police                     184,501\n",
      "Suffolk Constabulary                    168,326\n",
      "Wiltshire Police                        159,909\n",
      "Warwickshire Police                     150,304\n",
      "British Transport Police                127,360\n",
      "Dyfed-Powys Police                      126,716\n",
      "Cumbria Constabulary                    126,703\n",
      "City of London Police                    27,404\n",
      "Greater Manchester Police                    14\n",
      "Name: count, dtype: object\n"
     ]
    }
   ],
   "source": [
    "print(\"\\nBreakdown of Crimes by 'Falls within':\")\n",
    "print(falls_within_breakdown.apply(lambda x: f\"{x:,}\"))"
   ]
  },
  {
   "cell_type": "markdown",
   "metadata": {},
   "source": [
    "# Known Issues\n",
    "Before using the data, it’s important to review the [changelog](https://data.police.uk/changelog/) on DATA.POLICE.UK, which lists known issues. Understanding these issues is crucial for assessing the reliability and limitations of the data, as certain discrepancies or data gaps could impact the analysis and results.\n",
    "\n",
    "As of 13th November 2024, the issues include:\n",
    "* Court outcomes from June 2019 onwards are currently unavailable. We are working with the MoJ to provide this data over the coming months.\n",
    "* Avon and Somerset Constabulary: Due to a change in IT systems there are known issues with crime and outcome data since October 2015 as latitude and longitude information is missing from approximately 2000 crimes each month. The force will be working to rectify this and provide the missing data over the coming months.\n",
    "* British Transport Police: ASB data has not been provided for period April 2016 onwards. The force will rectify this issue and provide the missing data over the coming months.\n",
    "Devon and Cornwall: Due to a range of issues, including the implementation of a new record management system in November 2022, outcomes data is unreliable. Work is ongoing to address the issues.\n",
    "* Greater Manchester Police: Due to a change in IT systems no crime, outcome or stop and search data is available from July 2019 onwards. The force are working to rectify this issue and provide the missing data over the coming months.\n",
    "* Gwent Police: The force are currently rectifying the issues with the Stop and Search Data and are looking to provide the data once the issues are rectified.\n",
    "* Humberside Police: The force are implementing a new crime recording system so are currently unable to provide stop and search data. Data will be provided when this work is complete.\n",
    "* Wiltshire Police: Due to Stop and Search data forms being completed manually there is a data lag of up to 6 weeks with these forms being processed. The force aims to rectify this as soon as possible and will provide the data over the coming months."
   ]
  },
  {
   "cell_type": "code",
   "execution_count": null,
   "metadata": {},
   "outputs": [],
   "source": []
  }
 ],
 "metadata": {
  "kernelspec": {
   "display_name": "Python 3",
   "language": "python",
   "name": "python3"
  },
  "language_info": {
   "codemirror_mode": {
    "name": "ipython",
    "version": 3
   },
   "file_extension": ".py",
   "mimetype": "text/x-python",
   "name": "python",
   "nbconvert_exporter": "python",
   "pygments_lexer": "ipython3",
   "version": "3.9.13"
  }
 },
 "nbformat": 4,
 "nbformat_minor": 2
}
